{
 "cells": [
  {
   "cell_type": "markdown",
   "metadata": {
    "collapsed": true
   },
   "source": [
    "<!--- 20180319AnswersfourthWorkShopTaller04 first feedback -->\n",
    "20180319: GAEB(Gabriel Andrés Espinosa Barrios) Returning/re-entry Engineering PhD Graduate Student. University of the Andes(Universidad de los Andes). Cod:200311728 Id:110279864X. Bogota(Bogotá) D.C., Colombia.\n",
    "\n",
    "#  COMPUTING TOOLS - FOURTH WORKSHOP-TALLER 4\n",
    "\n",
    "Python files, folders, commands AND *PDF for the Fourth WorkShop.\n",
    "\n",
    "Student: Gabriel Andrés Espinosa Barrios.\n",
    "\n",
    "## Join Matlab Functions with Python: Standar Fourier Series, Fourier Transforms; with Python Application.\n",
    "\n",
    "## 0 Solution PDF Document  \"20180319StandarFourierSeriesFourierTransformsPythonApplication.pdf\"\n",
    "\n",
    "## 1 Folder Background Feedback 20050130_20060214AnalisisNumericoBackgroundFeedbackUniandes = 20050130_20060214AnálisisNúmericoBackgroundFeedbackUniandes:\n",
    "\n",
    "\"Interpolación de Lagrange y Series de Fourier\" files: 20060214fescalonfourier2.m AND 20060214fescalonfouriernormal.m  \n",
    "\n",
    "## 2 References(Book Related References)\n",
    "\n",
    "<!--- 20180319AnswersfourthWorkShopTaller04 General Math Fourier Background  --> \n",
    "\n",
    "General Math Fourier Background:\n",
    "1. Folland, G. B. Fourier analysis and its applications (Vol. 4). American Mathematical Soc, 1992.\n",
    "\n",
    "2. R. Szeliski,  Computer vision: algorithms and applications, Springer, London - New York, 2011. Chapter 3, Section 3.4 Fourier transforms.\n",
    "\n",
    "\n",
    "Computing Tools Matlab Fourier Applications: Fourier Series, Fourier Transforms(Join with Taylor's series). \n",
    "   \n",
    "3. J. Nathan Kutz, Data-Driven Modeling & Scientific Computation: Methods for Complex Systems & Big Data, OUP Oxford, 2013. (Class Notes)Part III Computational Methods for Data\n",
    "Analysis, Section 13.1 Basics of Fourier Series and the Fourier Transform <!--- 20180319_582.pdf page 24  -->\n",
    "\n",
    "## 3 Python codes, files, folders, commands AND *PDF for the Fourth WorkShop."
   ]
  },
  {
   "cell_type": "code",
   "execution_count": null,
   "metadata": {},
   "outputs": [],
   "source": [
    "import fouriertransforms"
   ]
  }
 ],
 "metadata": {
  "kernelspec": {
   "display_name": "Python 2",
   "language": "python",
   "name": "python2"
  },
  "language_info": {
   "codemirror_mode": {
    "name": "ipython",
    "version": 2
   },
   "file_extension": ".py",
   "mimetype": "text/x-python",
   "name": "python",
   "nbconvert_exporter": "python",
   "pygments_lexer": "ipython2",
   "version": "2.7.14"
  }
 },
 "nbformat": 4,
 "nbformat_minor": 2
}
