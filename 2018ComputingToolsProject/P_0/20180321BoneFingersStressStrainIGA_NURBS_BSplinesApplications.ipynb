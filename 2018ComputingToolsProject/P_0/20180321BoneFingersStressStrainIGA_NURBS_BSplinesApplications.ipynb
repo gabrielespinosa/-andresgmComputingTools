{
 "cells": [
  {
   "cell_type": "code",
   "execution_count": 8,
   "metadata": {},
   "outputs": [],
   "source": [
    "#20180322_18:47:%$ Test to know if *py \" def funtion()\" work in *.pynb. \n",
    "#20180322_19:18: Answer=Work #feedback from: [nocollier](https://github.com/nocollier/IGABone) \n",
    "import dicom\n",
    "def DICOMreadImages():\n",
    "    \"\"\"\n",
    "    Reads in all the DICOM images in a directory and assembles them\n",
    "    into a single numpy volume. Assumes files are sequentially\n",
    "    numbered.  files types *dcm. Files \"number\".dcm; example 0388.dcm.\n",
    "    \"\"\"\n",
    "DICOMreadImages():"
   ]
  },
  {
   "cell_type": "code",
   "execution_count": 6,
   "metadata": {},
   "outputs": [],
   "source": [
    "#20180322: #Initial Feedback from(https://bitbucket.org/dalcinl/igakit) link connection: https://pydicom.github.io/pydicom/stable/transition_to_pydicom1.html  test after run in terminal: \n",
    "#$pip install dicom_numpy --user\n",
    "#$pip install pydicom --user #=Installed before. Feedback about use $python3.5\n",
    "#$pip install dicom --user\n",
    "#python version required #python3.5\n",
    "import dicom #$ work afther installing: $ pip install dicom --user                                                                                               \n",
    "#import pydicom  #$ work afther installing:= $pip install dicom_numpy --user JOIN WITH $pip install pydicom --user"
   ]
  },
  {
   "cell_type": "code",
   "execution_count": 2,
   "metadata": {
    "scrolled": true
   },
   "outputs": [
    {
     "ename": "ModuleNotFoundError",
     "evalue": "No module named 'dicom'",
     "output_type": "error",
     "traceback": [
      "\u001b[0;31m---------------------------------------------------------------------------\u001b[0m",
      "\u001b[0;31mModuleNotFoundError\u001b[0m                       Traceback (most recent call last)",
      "\u001b[0;32m<ipython-input-2-d12c7fd62963>\u001b[0m in \u001b[0;36m<module>\u001b[0;34m()\u001b[0m\n\u001b[0;32m----> 1\u001b[0;31m \u001b[0;32mimport\u001b[0m \u001b[0mdicom\u001b[0m\u001b[0;34m\u001b[0m\u001b[0m\n\u001b[0m\u001b[1;32m      2\u001b[0m \u001b[0;31m#install dicom_numpy\u001b[0m\u001b[0;34m\u001b[0m\u001b[0;34m\u001b[0m\u001b[0m\n",
      "\u001b[0;31mModuleNotFoundError\u001b[0m: No module named 'dicom'"
     ]
    }
   ],
   "source": [
    "#20180321 First check the work of igakit to know that pydicom work\n",
    "import dicom\n",
    "#install dicom_numpy\n",
    "##20180321 in this page https://pypi.python.org/pypi/dicom-numpy/0.1.1 ; link to download the dicom function: dicom_numpy-0.1.1.tar.gz (md5) \n",
    "# general file link : https://pypi.python.org/packages/53/c0/a349cb950b8cc698b64e51fed762caf4f2c6085237bf3aeca4d00b91f5ba/dicom_numpy-0.1.1.tar.gz#md5=1e596bd774e7bab62b9211e210937281"
   ]
  },
  {
   "cell_type": "code",
   "execution_count": 2,
   "metadata": {},
   "outputs": [
    {
     "ename": "ImportError",
     "evalue": "No module named dicom",
     "output_type": "error",
     "traceback": [
      "\u001b[0;31m\u001b[0m",
      "\u001b[0;31mImportError\u001b[0mTraceback (most recent call last)",
      "\u001b[0;32m<ipython-input-2-883b64a372c3>\u001b[0m in \u001b[0;36m<module>\u001b[0;34m()\u001b[0m\n\u001b[1;32m      1\u001b[0m \u001b[0;32mimport\u001b[0m \u001b[0mnumpy\u001b[0m \u001b[0;32mas\u001b[0m \u001b[0mnp\u001b[0m\u001b[0;34m\u001b[0m\u001b[0m\n\u001b[1;32m      2\u001b[0m \u001b[0;32mimport\u001b[0m \u001b[0mpylab\u001b[0m \u001b[0;32mas\u001b[0m \u001b[0mplt\u001b[0m\u001b[0;34m\u001b[0m\u001b[0m\n\u001b[0;32m----> 3\u001b[0;31m \u001b[0;32mimport\u001b[0m \u001b[0mdicom\u001b[0m \u001b[0;32mas\u001b[0m \u001b[0mdcm\u001b[0m\u001b[0;34m\u001b[0m\u001b[0m\n\u001b[0m\u001b[1;32m      4\u001b[0m \u001b[0;32mimport\u001b[0m \u001b[0mskimage\u001b[0m\u001b[0;34m.\u001b[0m\u001b[0mfilter\u001b[0m \u001b[0;32mas\u001b[0m \u001b[0mfilt\u001b[0m\u001b[0;34m\u001b[0m\u001b[0m\n\u001b[1;32m      5\u001b[0m \u001b[0;32mimport\u001b[0m \u001b[0mglob\u001b[0m \u001b[0;32mas\u001b[0m \u001b[0mglob\u001b[0m\u001b[0;34m\u001b[0m\u001b[0m\n",
      "\u001b[0;31mImportError\u001b[0m: No module named dicom"
     ]
    }
   ],
   "source": [
    "#20180321 Requirement to import dicom https://pypi.python.org/pypi/dicom-numpy/0.1.1 = pip install dicom_numpy\n",
    "import numpy as np\n",
    "import pylab as plt\n",
    "import dicom as dcm\n",
    "import skimage.filter as filt\n",
    "import glob as glob\n",
    "from pyvtk2 import *"
   ]
  }
 ],
 "metadata": {
  "kernelspec": {
   "display_name": "Python 3",
   "language": "python",
   "name": "python3"
  },
  "language_info": {
   "codemirror_mode": {
    "name": "ipython",
    "version": 3
   },
   "file_extension": ".py",
   "mimetype": "text/x-python",
   "name": "python",
   "nbconvert_exporter": "python",
   "pygments_lexer": "ipython3",
   "version": "3.5.4"
  }
 },
 "nbformat": 4,
 "nbformat_minor": 2
}
